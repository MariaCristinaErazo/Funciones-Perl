{
 "cells": [
  {
   "cell_type": "code",
   "execution_count": 79,
   "id": "3df8bf23",
   "metadata": {},
   "outputs": [
    {
     "data": {
      "text/plain": [
       "1"
      ]
     },
     "execution_count": 79,
     "metadata": {},
     "output_type": "execute_result"
    },
    {
     "ename": "Warning",
     "evalue": "Subroutine new redefined at reply input line 12.\n\nSubroutine forward redefined at reply input line 17.\n",
     "output_type": "error",
     "traceback": [
      "Subroutine new redefined at reply input line 12.\n\nSubroutine forward redefined at reply input line 17.\n"
     ]
    }
   ],
   "source": [
    "package Encoder{\n",
    "  #The base encoder interface for the encoder-decoder architecture.\n",
    "  use strict;\n",
    "  use warnings;\n",
    "  use Data::Dump qw(dump);\n",
    "  use AI::MXNet qw(mx);\n",
    "  use AI::MXNet::AutoGrad qw(autograd);\n",
    "  use AI::MXNet::Base;\n",
    "  use AI::MXNet::Gluon::Block;\n",
    "  use base (\"AI::MXNet::Gluon::Block\");\n",
    "\n",
    "  sub new{\n",
    "    my $self = shift;\n",
    "    $self->SUPER::new();\n",
    "  }\n",
    "\n",
    "  sub forward{\n",
    "    my ($self, $X, %args) = (shift, @_);\n",
    "    print \"NotImplementedEncoder.\\n\";\n",
    "  }\n",
    "  \n",
    "  1;\n",
    "}"
   ]
  },
  {
   "cell_type": "code",
   "execution_count": 80,
   "id": "cbf1c207",
   "metadata": {},
   "outputs": [
    {
     "data": {
      "text/plain": [
       "1"
      ]
     },
     "execution_count": 80,
     "metadata": {},
     "output_type": "execute_result"
    },
    {
     "ename": "Warning",
     "evalue": "Subroutine new redefined at reply input line 8.\n\nSubroutine init_state redefined at reply input line 13.\n\nSubroutine forward redefined at reply input line 18.\n",
     "output_type": "error",
     "traceback": [
      "Subroutine new redefined at reply input line 8.\n\nSubroutine init_state redefined at reply input line 13.\n\nSubroutine forward redefined at reply input line 18.\n"
     ]
    }
   ],
   "source": [
    "package Decoder{\n",
    "  #The base decoder interface for the encoder-decoder architecture.\n",
    "  use strict;\n",
    "  use warnings;\n",
    "  use Data::Dump qw(dump);\n",
    "  use base (\"AI::MXNet::Gluon::Block\");\n",
    "\n",
    "  sub new{\n",
    "    my $self = shift;\n",
    "    $self->SUPER::new();\n",
    "  }\n",
    "\n",
    "  sub init_state{\n",
    "    my ($self, $enc_outputs, %args) = (shift, @_);\n",
    "    print \"NotImplementedDecoder.\\n\";\n",
    "  }\n",
    "  \n",
    "  sub forward{\n",
    "    my ($self, $X, $state) = (shift, @_);\n",
    "    print \"NotImplementedDecoder.\\n\";\n",
    "  }\n",
    "  \n",
    "  1;\n",
    "}"
   ]
  },
  {
   "cell_type": "code",
   "execution_count": 81,
   "id": "84c0ded2",
   "metadata": {},
   "outputs": [
    {
     "data": {
      "text/plain": [
       "1"
      ]
     },
     "execution_count": 81,
     "metadata": {},
     "output_type": "execute_result"
    },
    {
     "ename": "Warning",
     "evalue": "Subroutine new redefined at reply input line 8.\n\nSubroutine forward redefined at reply input line 18.\n",
     "output_type": "error",
     "traceback": [
      "Subroutine new redefined at reply input line 8.\n\nSubroutine forward redefined at reply input line 18.\n"
     ]
    }
   ],
   "source": [
    "package EncoderDecoder{\n",
    "  #The base class for the encoder-decoder architecture.\n",
    "  use strict;\n",
    "  use warnings;\n",
    "  use Data::Dump qw(dump);\n",
    "  use base (\"AI::MXNet::Gluon::Block\");\n",
    "  \n",
    "  sub new{\n",
    "    my $class = shift;\n",
    "    my $self = $class->SUPER::new();\n",
    "    $self->{encoder} = shift;\n",
    "    $self->register_child($self->{encoder});\n",
    "    $self->{decoder} = shift;\n",
    "    $self->register_child($self->{decoder});\n",
    "    return bless($self, $class);\n",
    "  }\n",
    "\n",
    "  sub forward{\n",
    "    my ($self, $enc_X, $dec_X, $args) = @_;\n",
    "    my $enc_outputs = [$self->{encoder}->($enc_X, $args)];\n",
    "    my $dec_state = $self->{decoder}->init_state($enc_outputs, $args);\n",
    "    \n",
    "    return $self->{decoder}->($dec_X, $dec_state);\n",
    "  }\n",
    "  \n",
    "  1;\n",
    "}"
   ]
  },
  {
   "cell_type": "code",
   "execution_count": 82,
   "id": "32dc1adb",
   "metadata": {},
   "outputs": [
    {
     "data": {
      "text/plain": [
       "1"
      ]
     },
     "execution_count": 82,
     "metadata": {},
     "output_type": "execute_result"
    },
    {
     "ename": "Warning",
     "evalue": "Subroutine new redefined at reply input line 11.\n\nSubroutine forward redefined at reply input line 23.\n",
     "output_type": "error",
     "traceback": [
      "Subroutine new redefined at reply input line 11.\n\nSubroutine forward redefined at reply input line 23.\n"
     ]
    }
   ],
   "source": [
    "#@save\n",
    "package Seq2SeqEncoder{\n",
    "  #The RNN encoder for sequence to sequence learning.\n",
    "  use strict;\n",
    "  use warnings;\n",
    "  use Data::Dump qw(dump);\n",
    "  use AI::MXNet::Gluon qw(gluon);\n",
    "  use AI::MXNet::Gluon::NN qw(nn);\n",
    "  use base (\"Encoder\");#\"dl2::Encoder\"\n",
    "  \n",
    "  sub new{\n",
    "    my ($class, %args) = (shift, @_);\n",
    "    my $self = $class->SUPER::new();\n",
    "\n",
    "    # Embedding layer\n",
    "    $self->{embedding} = gluon->nn->Embedding($args{vocab_size}, $args{embed_size});\n",
    "    $self->register_child($self->{embedding});\n",
    "    $self->{rnn} = gluon->rnn->GRU(hidden_size => $args{num_hiddens}, num_layers => $args{num_layers}, dropout => $args{dropout} // 0);\n",
    "    $self->register_child($self->{rnn});\n",
    "    return bless($self, $class);\n",
    "  }\n",
    "  \n",
    "  sub forward{\n",
    "    my ($self, $X) = (shift, @_);\n",
    "    # The output `X` shape: (`batch_size`, `num_steps`, `embed_size`)\n",
    "    $X = $self->{embedding}->forward($X);\n",
    "    # In RNN models, the first axis corresponds to time steps\n",
    "    $X = $X->swapaxes(0, 1);\n",
    "    my $state = $self->{rnn}->begin_state(@{$X->shape}[1], ctx => mx->cpu(0));\n",
    "    my $output = $self->{rnn}->forward($X, $state);\n",
    "    ($output, $state) = ($output->[0], $output->[1]);\n",
    "    # `output` shape: (`num_steps`, `batch_size`, `num_hiddens`)\n",
    "    # `state[0]` shape: (`num_layers`, `batch_size`, `num_hiddens`)\n",
    "    return ($output, $state);\n",
    "  }\n",
    "  \n",
    "  1;\n",
    "}"
   ]
  },
  {
   "cell_type": "code",
   "execution_count": 123,
   "id": "04aac005",
   "metadata": {},
   "outputs": [],
   "source": [
    "use strict;\n",
    "use warnings;\n",
    "use Data::Dump qw(dump);\n",
    "use List::Util qw( min max shuffle);\n",
    "use numperl;\n",
    "use extension;\n",
    "use constant np => 'numperl';\n",
    "use constant ex => 'extension';\n",
    "use constant False => 'False';\n",
    "use constant True => 'True';\n",
    "use constant None => 'None';\n",
    "use AI::MXNet qw(mx);\n",
    "use AI::MXNet qw(nd);\n",
    "use AI::MXNet::AutoGrad qw(autograd);\n",
    "use d2l;"
   ]
  },
  {
   "cell_type": "code",
   "execution_count": 205,
   "id": "4623b9a5",
   "metadata": {},
   "outputs": [
    {
     "ename": "Warning",
     "evalue": "Subroutine new redefined at reply input line 9.\n\nSubroutine attention_weights1 redefined at reply input line 14.\n",
     "output_type": "error",
     "traceback": [
      "Subroutine new redefined at reply input line 9.\n\nSubroutine attention_weights1 redefined at reply input line 14.\n"
     ]
    }
   ],
   "source": [
    "package AttentionDecoder{\n",
    "  use strict;\n",
    "  use warnings;\n",
    "  use Data::Dump qw(dump);\n",
    "  use AI::MXNet::Gluon qw(gluon);\n",
    "  use AI::MXNet::Gluon::NN qw(nn);\n",
    "  use base (\"Decoder\");#\"dl2::Decoder\"\n",
    "  \n",
    "    sub new{\n",
    "    my $self = shift;\n",
    "    $self->SUPER::new();\n",
    "  }\n",
    "    \n",
    "    sub attention_weights1{\n",
    "        my($self) =@_;\n",
    "        print \"NotImplementedError.\\n\";\n",
    "    }\n",
    "\n",
    "}"
   ]
  },
  {
   "cell_type": "code",
   "execution_count": 221,
   "id": "cadb573f",
   "metadata": {},
   "outputs": [
    {
     "ename": "Warning",
     "evalue": "Subroutine new redefined at reply input line 10.\n\nSubroutine forward redefined at reply input line 22.\n",
     "output_type": "error",
     "traceback": [
      "Subroutine new redefined at reply input line 10.\n\nSubroutine forward redefined at reply input line 22.\n"
     ]
    }
   ],
   "source": [
    "package AdditiveAttention{\n",
    "  use strict;\n",
    "  use warnings;\n",
    "  use constant np => 'numperl';\n",
    "  use Data::Dump qw(dump);\n",
    "   use AI::MXNet::Gluon qw(gluon);\n",
    "  use AI::MXNet::Gluon::NN qw(nn);\n",
    "  use base (\"AI::MXNet::Gluon::Block\");\n",
    "  \n",
    "  sub new{\n",
    "    my ($class, %args) = (shift, @_);\n",
    "    my $self = $class->SUPER::new();\n",
    "    $self->{'W_k'}= gluon->nn->Dense($args{'num_hiddens'}, use_bias=>0, flatten => 0);\n",
    "    $self->register_child($self->{'W_k'});\n",
    "    $self->{'W_q'}= gluon->nn->Dense($args{'num_hiddens'}, use_bias=>0, flatten => 0);\n",
    "   $self->register_child($self->{'W_q'});\n",
    "    $self->{'dropout'} = gluon->nn->Dropout($args{'dropout'});\n",
    "    $self->register_child($self->{'dropout'});\n",
    "    return bless($self, $class);\n",
    "    }\n",
    "    \n",
    "    sub forward{\n",
    "        my($self, $queries, $keys, $values, $valid_lens)=@_;\n",
    "        $queries= $self->{'W_q'}($queries);\n",
    "        $keys= $self->{'W_k'}->($keys);\n",
    "        my $features = np->expand_dims($queries, axis=>2) + np->expand_dims($keys, axis=>1);\n",
    "        $features = np->tanh($features);\n",
    "        my $scores = np->squeeze($self->{'w_v'}($features), axis=> -1);\n",
    "        $self->{'attention_weights'} = masked_softmax($scores, $valid_lens);\n",
    "        return mx->nd->batch_dot($self->{'dropout'}($self->{attention_weights}), $values);\n",
    "    }\n",
    "}"
   ]
  },
  {
   "cell_type": "code",
   "execution_count": 238,
   "id": "2db4d144",
   "metadata": {},
   "outputs": [
    {
     "data": {
      "text/plain": [
       "numperl=ARRAY(0xc9a8268)"
      ]
     },
     "execution_count": 238,
     "metadata": {},
     "output_type": "execute_result"
    }
   ],
   "source": [
    "#my $queries = np->random_normal(loc=>0, scale=>1, size=>[2, 1, 20]);\n",
    "#my $keys=  np->ones([2, 10, 2]);\n",
    "# The two value matrices in the `values` minibatch are identical\n",
    "#my $values = np->arange(40)->reshape([1, 10, 4]);\n",
    "#my $valid_lens = np->array([2, 6]);\n",
    "#my $attention = AdditiveAttention->new(num_hiddens=>8, dropout=>0.1);\n"
   ]
  },
  {
   "cell_type": "code",
   "execution_count": 236,
   "id": "7ef4dbfb",
   "metadata": {},
   "outputs": [
    {
     "ename": "Warning",
     "evalue": "Subroutine new redefined at reply input line 10.\n\nSubroutine init_state redefined at reply input line 28.\n\nSubroutine forward redefined at reply input line 33.\n\nSubroutine attention_weights redefined at reply input line 54.\n",
     "output_type": "error",
     "traceback": [
      "Subroutine new redefined at reply input line 10.\n\nSubroutine init_state redefined at reply input line 28.\n\nSubroutine forward redefined at reply input line 33.\n\nSubroutine attention_weights redefined at reply input line 54.\n"
     ]
    }
   ],
   "source": [
    "package Seq2SeqAttentionDecoder{\n",
    "    use strict;\n",
    "  use warnings;\n",
    "  use constant np => 'numperl';\n",
    "  use Data::Dump qw(dump);\n",
    "  use AI::MXNet::Gluon qw(gluon);\n",
    "  use AI::MXNet::Gluon::NN qw(nn);\n",
    "  use base (\"AttentionDecoder\");\n",
    "  \n",
    "    sub new{\n",
    "    my ($class, %args) = (shift, @_);\n",
    "    my $self = $class->SUPER::new();\n",
    "\n",
    "    # Embedding layer\n",
    "    $self->{'attention'} = AdditiveAttention->new($args{'num_hiddens'},$args{'dropout'});\n",
    "    $self->register_child($self->{'attention'});\n",
    "    $self->{'embedding'} = gluon->nn->Embedding($args{'vocab_size'}, $args{'embed_size'});\n",
    "    $self->register_child($self->{'embedding'});\n",
    "    $self->{'rnn'} = gluon->rnn->GRU(hidden_size => $args{'num_hiddens'}, num_layers => $args{'num_layers'}, dropout => $args{'dropout'} // 0);\n",
    "    $self->register_child($self->{'rnn'});\n",
    "    $self->{'dense'} = gluon->nn->Dense($args{'vocab_size'}, flatten => 0);\n",
    "    $self->register_child($self->{'dense'});\n",
    "    \n",
    "    \n",
    "    return bless($self, $class);\n",
    "  }\n",
    "  \n",
    "   sub init_state{\n",
    "    my ($self, $enc_outputs, $enc_valid_lens) = (shift, @_, @_);\n",
    "    my($outputs, $hidden_state)= $enc_outputs;\n",
    "    return ($outputs->swapaxes(0, 1),  $hidden_state, $enc_valid_lens);\n",
    "  }\n",
    "  sub forward{\n",
    "    my ($self, $X, $state) = (shift, @_, @_);\n",
    "    my($enc_outputs, $hidden_state, $enc_valid_lens) = $state;\n",
    "     $X = $self->{'embedding'}->forward($X);\n",
    "     $X = $X->swapaxes(0, 1);\n",
    "     my $outputs=[];\n",
    "     $self->{'attention_weights1'}=[];\n",
    "   \n",
    "     for my $x(@$X){\n",
    "     \n",
    "        my $query = np->expand_dims($hidden_state->[0][-1], axis=>1); \n",
    "        my $context = $self->{'attention'}->($query, $enc_outputs, $enc_outputs, $enc_valid_lens);\n",
    "        $x = np->concatenate(($context, np->expand_dims($x, axis=>1)), axis=>-1);\n",
    "        my($out, $hidden_state) = $self->{'rnn'}->forward($x->swapaxes(0, 1), $hidden_state);\n",
    "        push(@$outputs, $out);\n",
    "        push(@{$self->attention_weights1}, $self->attention_weights($self->{'attention'}));\n",
    "     }\n",
    "    $outputs = $self->{'dense'}->(np->concatenate($outputs, axis=>0));\n",
    "    return $outputs->swapaxes(0,1), [$enc_outputs, $hidden_state, $enc_valid_lens];\n",
    "  \n",
    "  }\n",
    "  sub attention_weights{\n",
    "      my $self=@_;\n",
    "      return $self->attention_weights1;\n",
    "  }\n",
    "  \n",
    "  \n",
    "}"
   ]
  },
  {
   "cell_type": "code",
   "execution_count": 237,
   "id": "73c5b8d0",
   "metadata": {},
   "outputs": [
    {
     "ename": "Error",
     "evalue": "Attribute (units) does not pass the type constraint because: Validation failed for 'Int' with value undef at /usr/local/lib/perl5/site_perl/5.32.1/x86_64-linux/Mouse/Util.pm line 395.\n\tMouse::Util::throw_error(Mouse::Meta::Attribute=HASH(0x8aa1000), \"Attribute (units) does not pass the type constraint because: \"..., \"data\", undef, \"depth\", -1) called at reply input line 13\n\tAdditiveAttention::new(\"AdditiveAttention\", 16, undef) called at reply input line 15\n\tSeq2SeqAttentionDecoder::new(\"Seq2SeqAttentionDecoder\", \"vocab_size\", 10, \"embed_size\", 8, \"num_hiddens\", 16, \"num_layers\", 2) called at reply input line 4\n\tEval::Closure::Sandbox_1509::__ANON__() called at /usr/local/lib/perl5/site_perl/5.32.1/Reply/Plugin/Defaults.pm line 71\n\tReply::Plugin::Defaults::execute(Reply::Plugin::Defaults=HASH(0x4c2db40), CODE(0xcd8f258), CODE(0xc93c190)) called at /usr/local/lib/perl5/site_perl/5.32.1/Reply.pm line 217\n\tReply::_wrapped_plugin(Reply=HASH(0x4c141d0), ARRAY(0xc9f5f68), \"execute\", CODE(0xc93c190)) called at /usr/local/lib/perl5/site_perl/5.32.1/Reply.pm line 215\n\tReply::__ANON__(CODE(0xc93c190)) called at /usr/local/lib/perl5/site_perl/5.32.1/Reply/Plugin/IPerl.pm line 28\n\tReply::Plugin::IPerl::__ANON__() called at /usr/local/lib/perl5/site_perl/5.32.1/Capture/Tiny.pm line 382\n\teval {...} called at /usr/local/lib/perl5/site_perl/5.32.1/Capture/Tiny.pm line 382\n\tCapture::Tiny::_capture_tee(1, 1, 0, 0, CODE(0xbe7e6e0)) called at /usr/local/lib/perl5/site_perl/5.32.1/Reply/Plugin/IPerl.pm line 29\n\tReply::Plugin::IPerl::execute(Reply::Plugin::IPerl=HASH(0x4c436d0), CODE(0xc87b008), CODE(0xc93c190)) called at /usr/local/lib/perl5/site_perl/5.32.1/Reply.pm line 217\n\tReply::_wrapped_plugin(Reply=HASH(0x4c141d0), \"execute\", CODE(0xc93c190)) called at /usr/local/lib/perl5/site_perl/5.32.1/Reply.pm line 174\n\tReply::_eval(Reply=HASH(0x4c141d0), \"\\x{a}#line 1 \\\"reply input\\\"\\x{a}my \\$encoder = Seq2SeqEncoder->new(voca\"...) called at /usr/local/lib/perl5/site_perl/5.32.1/Reply.pm line 66\n\tReply::try {...} () called at /usr/local/lib/perl5/site_perl/5.32.1/Try/Tiny.pm line 102\n\teval {...} called at /usr/local/lib/perl5/site_perl/5.32.1/Try/Tiny.pm line 93\n\tTry::Tiny::try(CODE(0xc8cb138), Try::Tiny::Catch=REF(0xca53100)) called at /usr/local/lib/perl5/site_perl/5.32.1/Reply.pm line 71\n\tReply::step(Reply=HASH(0x4c141d0), \"my \\$encoder = Seq2SeqEncoder->new(vocab_size => 10, embed_siz\"..., 0) called at /usr/local/lib/perl5/site_perl/5.32.1/Devel/IPerl/Kernel/Backend/Reply.pm line 48\n\tDevel::IPerl::Kernel::Backend::Reply::__ANON__() called at /usr/local/lib/perl5/site_perl/5.32.1/Capture/Tiny.pm line 382\n\teval {...} called at /usr/local/lib/perl5/site_perl/5.32.1/Capture/Tiny.pm line 382\n\tCapture::Tiny::_capture_tee(1, 1, 0, 0, CODE(0xc9b37e8)) called at /usr/local/lib/perl5/site_perl/5.32.1/Devel/IPerl/Kernel/Backend/Reply.pm line 49\n\tDevel::IPerl::Kernel::Backend::Reply::run_line(Devel::IPerl::Kernel::Backend::Reply=HASH(0x2508b88), \"my \\$encoder = Seq2SeqEncoder->new(vocab_size => 10, embed_siz\"...) called at /usr/local/lib/perl5/site_perl/5.32.1/Devel/IPerl/Kernel/Callback/REPL.pm line 42\n\tDevel::IPerl::Kernel::Callback::REPL::execute(Devel::IPerl::Kernel::Callback::REPL=HASH(0x25f2da0), Devel::IPerl::Kernel=HASH(0x1a1cef8), Devel::IPerl::Message::ZMQ=HASH(0xca55e18)) called at (eval 30) line 6\n\tDevel::IPerl::Kernel::Callback::REPL::execute(Devel::IPerl::Kernel::Callback::REPL=HASH(0x25f2da0), Devel::IPerl::Kernel=HASH(0x1a1cef8), Devel::IPerl::Message::ZMQ=HASH(0xca55e18)) called at /usr/local/lib/perl5/site_perl/5.32.1/Devel/IPerl/Kernel/Callback/REPL.pm line 156\n\tDevel::IPerl::Kernel::Callback::REPL::msg_execute_request(Devel::IPerl::Kernel::Callback::REPL=HASH(0x25f2da0), Devel::IPerl::Kernel=HASH(0x1a1cef8), Devel::IPerl::Message::ZMQ=HASH(0xca55e18), ZMQ::LibZMQ3::Socket=HASH(0x527b750)) called at /usr/local/lib/perl5/site_perl/5.32.1/Devel/IPerl/Kernel.pm line 245\n\tDevel::IPerl::Kernel::route_message(Devel::IPerl::Kernel=HASH(0x1a1cef8), ARRAY(0x527b870), ZMQ::LibZMQ3::Socket=HASH(0x527b750)) called at /usr/local/lib/perl5/site_perl/5.32.1/Devel/IPerl/Kernel.pm line 215\n\tDevel::IPerl::Kernel::__ANON__(Net::Async::ZMQ::Socket=HASH(0x527b900)) called at /usr/local/lib/perl5/site_perl/5.32.1/IO/Async/Loop/Poll.pm line 172\n\tIO::Async::Loop::Poll::post_poll(IO::Async::Loop::Poll=HASH(0x51c5898)) called at /usr/local/lib/perl5/site_perl/5.32.1/IO/Async/Loop/Poll.pm line 292\n\tIO::Async::Loop::Poll::loop_once(IO::Async::Loop::Poll=HASH(0x51c5898), undef) called at /usr/local/lib/perl5/site_perl/5.32.1/IO/Async/Loop.pm line 538\n\tIO::Async::Loop::run(IO::Async::Loop::Poll=HASH(0x51c5898)) called at /usr/local/lib/perl5/site_perl/5.32.1/IO/Async/Loop.pm line 575\n\tIO::Async::Loop::loop_forever(IO::Async::Loop::Poll=HASH(0x51c5898)) called at /usr/local/lib/perl5/site_perl/5.32.1/Devel/IPerl/Kernel.pm line 225\n\tDevel::IPerl::Kernel::run(Devel::IPerl::Kernel=HASH(0x1a1cef8)) called at /usr/local/lib/perl5/site_perl/5.32.1/Devel/IPerl.pm line 14\n\tDevel::IPerl::main() called at -e line 1\n",
     "output_type": "error",
     "traceback": [
      "Attribute (units) does not pass the type constraint because: Validation failed for 'Int' with value undef at /usr/local/lib/perl5/site_perl/5.32.1/x86_64-linux/Mouse/Util.pm line 395.\n\tMouse::Util::throw_error(Mouse::Meta::Attribute=HASH(0x8aa1000), \"Attribute (units) does not pass the type constraint because: \"..., \"data\", undef, \"depth\", -1) called at reply input line 13\n\tAdditiveAttention::new(\"AdditiveAttention\", 16, undef) called at reply input line 15\n\tSeq2SeqAttentionDecoder::new(\"Seq2SeqAttentionDecoder\", \"vocab_size\", 10, \"embed_size\", 8, \"num_hiddens\", 16, \"num_layers\", 2) called at reply input line 4\n\tEval::Closure::Sandbox_1509::__ANON__() called at /usr/local/lib/perl5/site_perl/5.32.1/Reply/Plugin/Defaults.pm line 71\n\tReply::Plugin::Defaults::execute(Reply::Plugin::Defaults=HASH(0x4c2db40), CODE(0xcd8f258), CODE(0xc93c190)) called at /usr/local/lib/perl5/site_perl/5.32.1/Reply.pm line 217\n\tReply::_wrapped_plugin(Reply=HASH(0x4c141d0), ARRAY(0xc9f5f68), \"execute\", CODE(0xc93c190)) called at /usr/local/lib/perl5/site_perl/5.32.1/Reply.pm line 215\n\tReply::__ANON__(CODE(0xc93c190)) called at /usr/local/lib/perl5/site_perl/5.32.1/Reply/Plugin/IPerl.pm line 28\n\tReply::Plugin::IPerl::__ANON__() called at /usr/local/lib/perl5/site_perl/5.32.1/Capture/Tiny.pm line 382\n\teval {...} called at /usr/local/lib/perl5/site_perl/5.32.1/Capture/Tiny.pm line 382\n\tCapture::Tiny::_capture_tee(1, 1, 0, 0, CODE(0xbe7e6e0)) called at /usr/local/lib/perl5/site_perl/5.32.1/Reply/Plugin/IPerl.pm line 29\n\tReply::Plugin::IPerl::execute(Reply::Plugin::IPerl=HASH(0x4c436d0), CODE(0xc87b008), CODE(0xc93c190)) called at /usr/local/lib/perl5/site_perl/5.32.1/Reply.pm line 217\n\tReply::_wrapped_plugin(Reply=HASH(0x4c141d0), \"execute\", CODE(0xc93c190)) called at /usr/local/lib/perl5/site_perl/5.32.1/Reply.pm line 174\n\tReply::_eval(Reply=HASH(0x4c141d0), \"\\x{a}#line 1 \\\"reply input\\\"\\x{a}my \\$encoder = Seq2SeqEncoder->new(voca\"...) called at /usr/local/lib/perl5/site_perl/5.32.1/Reply.pm line 66\n\tReply::try {...} () called at /usr/local/lib/perl5/site_perl/5.32.1/Try/Tiny.pm line 102\n\teval {...} called at /usr/local/lib/perl5/site_perl/5.32.1/Try/Tiny.pm line 93\n\tTry::Tiny::try(CODE(0xc8cb138), Try::Tiny::Catch=REF(0xca53100)) called at /usr/local/lib/perl5/site_perl/5.32.1/Reply.pm line 71\n\tReply::step(Reply=HASH(0x4c141d0), \"my \\$encoder = Seq2SeqEncoder->new(vocab_size => 10, embed_siz\"..., 0) called at /usr/local/lib/perl5/site_perl/5.32.1/Devel/IPerl/Kernel/Backend/Reply.pm line 48\n\tDevel::IPerl::Kernel::Backend::Reply::__ANON__() called at /usr/local/lib/perl5/site_perl/5.32.1/Capture/Tiny.pm line 382\n\teval {...} called at /usr/local/lib/perl5/site_perl/5.32.1/Capture/Tiny.pm line 382\n\tCapture::Tiny::_capture_tee(1, 1, 0, 0, CODE(0xc9b37e8)) called at /usr/local/lib/perl5/site_perl/5.32.1/Devel/IPerl/Kernel/Backend/Reply.pm line 49\n\tDevel::IPerl::Kernel::Backend::Reply::run_line(Devel::IPerl::Kernel::Backend::Reply=HASH(0x2508b88), \"my \\$encoder = Seq2SeqEncoder->new(vocab_size => 10, embed_siz\"...) called at /usr/local/lib/perl5/site_perl/5.32.1/Devel/IPerl/Kernel/Callback/REPL.pm line 42\n\tDevel::IPerl::Kernel::Callback::REPL::execute(Devel::IPerl::Kernel::Callback::REPL=HASH(0x25f2da0), Devel::IPerl::Kernel=HASH(0x1a1cef8), Devel::IPerl::Message::ZMQ=HASH(0xca55e18)) called at (eval 30) line 6\n\tDevel::IPerl::Kernel::Callback::REPL::execute(Devel::IPerl::Kernel::Callback::REPL=HASH(0x25f2da0), Devel::IPerl::Kernel=HASH(0x1a1cef8), Devel::IPerl::Message::ZMQ=HASH(0xca55e18)) called at /usr/local/lib/perl5/site_perl/5.32.1/Devel/IPerl/Kernel/Callback/REPL.pm line 156\n\tDevel::IPerl::Kernel::Callback::REPL::msg_execute_request(Devel::IPerl::Kernel::Callback::REPL=HASH(0x25f2da0), Devel::IPerl::Kernel=HASH(0x1a1cef8), Devel::IPerl::Message::ZMQ=HASH(0xca55e18), ZMQ::LibZMQ3::Socket=HASH(0x527b750)) called at /usr/local/lib/perl5/site_perl/5.32.1/Devel/IPerl/Kernel.pm line 245\n\tDevel::IPerl::Kernel::route_message(Devel::IPerl::Kernel=HASH(0x1a1cef8), ARRAY(0x527b870), ZMQ::LibZMQ3::Socket=HASH(0x527b750)) called at /usr/local/lib/perl5/site_perl/5.32.1/Devel/IPerl/Kernel.pm line 215\n\tDevel::IPerl::Kernel::__ANON__(Net::Async::ZMQ::Socket=HASH(0x527b900)) called at /usr/local/lib/perl5/site_perl/5.32.1/IO/Async/Loop/Poll.pm line 172\n\tIO::Async::Loop::Poll::post_poll(IO::Async::Loop::Poll=HASH(0x51c5898)) called at /usr/local/lib/perl5/site_perl/5.32.1/IO/Async/Loop/Poll.pm line 292\n\tIO::Async::Loop::Poll::loop_once(IO::Async::Loop::Poll=HASH(0x51c5898), undef) called at /usr/local/lib/perl5/site_perl/5.32.1/IO/Async/Loop.pm line 538\n\tIO::Async::Loop::run(IO::Async::Loop::Poll=HASH(0x51c5898)) called at /usr/local/lib/perl5/site_perl/5.32.1/IO/Async/Loop.pm line 575\n\tIO::Async::Loop::loop_forever(IO::Async::Loop::Poll=HASH(0x51c5898)) called at /usr/local/lib/perl5/site_perl/5.32.1/Devel/IPerl/Kernel.pm line 225\n\tDevel::IPerl::Kernel::run(Devel::IPerl::Kernel=HASH(0x1a1cef8)) called at /usr/local/lib/perl5/site_perl/5.32.1/Devel/IPerl.pm line 14\n\tDevel::IPerl::main() called at -e line 1\n"
     ]
    }
   ],
   "source": [
    "my $encoder = Seq2SeqEncoder->new(vocab_size => 10, embed_size => 8, num_hiddens => 16, num_layers => 2);\n",
    "$encoder->initialize();\n",
    "\n",
    "my $decoder = Seq2SeqAttentionDecoder->new(vocab_size=>10, embed_size=>8, num_hiddens=>16, num_layers=>2);\n",
    "$decoder->initialize();\n",
    "my $X = mx->nd->zeros([4, 7]);\n",
    "my $state = $decoder->init_state($encoder->($X), None);\n",
    "$state = $decoder->($X, $state);\n",
    "my $output= $decoder->($X, $state);\n",
    "$output->shape;\n",
    "$state->len;\n",
    "$state->[0]->shape;\n",
    "$state->[1]->len;\n",
    "$state->[1][0]->shape;"
   ]
  },
  {
   "cell_type": "code",
   "execution_count": 197,
   "id": "14e9d081",
   "metadata": {},
   "outputs": [
    {
     "ename": "Warning",
     "evalue": "Subroutine try_gpu redefined at reply input line 2.\n",
     "output_type": "error",
     "traceback": [
      "Subroutine try_gpu redefined at reply input line 2.\n"
     ]
    }
   ],
   "source": [
    "# @Save\n",
    "sub try_gpu{\n",
    "  my $i = 0;\n",
    "  #Return gpu(i) if exists, otherwise return cpu().\n",
    "  #return mx->context->num_gpus() >= $i + 1 ? mx->gpu($i) : mx->cpu($i);\n",
    "  return mx->cpu($i);\n",
    "}"
   ]
  },
  {
   "cell_type": "code",
   "execution_count": 198,
   "id": "760c41dc",
   "metadata": {},
   "outputs": [
    {
     "ename": "Warning",
     "evalue": "Subroutine train_seq2seq redefined at reply input line 2.\n",
     "output_type": "error",
     "traceback": [
      "Subroutine train_seq2seq redefined at reply input line 2.\n"
     ]
    }
   ],
   "source": [
    "#@save\n",
    "sub train_seq2seq{\n",
    "  my ($net, $data_iter, $lr, $num_epochs, $tgt_vocab, $device) = @_;\n",
    "  #Train a model for sequence to sequence.\n",
    "\n",
    "  $net->initialize(mx->init->Xavier(), force_reinit => 1, ctx => $device);\n",
    "  my $trainer = AI::MXNet::Gluon::Trainer(params => $net->collect_params(), \n",
    "       optimizer => 'adam', optimizer_params  => {\"learning_rate\" => $lr});\n",
    "\n",
    "  my $loss = MaskedSoftmaxCELoss();\n",
    "  my $animator = Animator->new(xlabel => 'Epoch', ylabel => 'Loss', xlim => [10, $num_epochs]);\n",
    "  my ($timer, $metric, $X, $X_valid_len, $Y, $Y_valid_len, $bos, $dec_input, $Y_hat, $l, $num_tokens);\n",
    "\n",
    "  for my $epoch (1 .. $num_epochs){\n",
    "    $timer = Timer->new();\n",
    "    $metric = Accumulator->new(2);  # Sum of training loss, no. of tokens\n",
    "    \n",
    "    while(my $batch = <$data_iter>){\n",
    "      $X           = nd->array($batch->[0]->slice('X', [0, -2])->asarray);\n",
    "      $X_valid_len = nd->array($batch->[0]->slice('X', [-1])->reshape([-1])->asarray);\n",
    "      $Y           = nd->array($batch->[1]->slice('X', [0, -2])->asarray);\n",
    "      $Y_valid_len = nd->array($batch->[1]->slice('X', [-1])->reshape([-1])->asarray);\n",
    "\n",
    "      $bos = mx->nd->array(\n",
    "          [($tgt_vocab->getitem(['<bos>'])) x $Y->shape->[0]], ctx => $device)->reshape([-1, 1]);\n",
    "      my $y_slice = nd->array($Y->slice('X', [0, -2])->asarray);\n",
    "      $dec_input = nd->concatenate([$bos, $y_slice], axis => 1);\n",
    "      \n",
    "      autograd->record(\n",
    "        sub {\n",
    "          ($Y_hat, undef) = $net->($X, $dec_input, $X_valid_len);\n",
    "        }\n",
    "      );\n",
    "      \n",
    "      $l = $loss->($Y_hat, $Y, $Y_valid_len);\n",
    "      $l->backward;\n",
    "      grad_clipping($net, 1);\n",
    "      $num_tokens = Y_valid_len->sum();\n",
    "      $trainer->step($num_tokens);\n",
    "      $metric->add($l->sum(), $num_tokens);\n",
    "    }\n",
    "    \n",
    "    if (($epoch + 1) % 10 == 0){\n",
    "      $animator->add($epoch + 1, ($metric->getitem(0) / $metric->getitem(1)));\n",
    "    }\n",
    "  }\n",
    "  \n",
    "  print sprintf(\"Loss %.3f %.1f tokens/sec on %s.\\n\", \n",
    "                 ($metric->getitem(0) / $metric->getitem(1)), \n",
    "                 ($metric->getitem(1) / $timer->stop()), $device);\n",
    "}"
   ]
  },
  {
   "cell_type": "code",
   "execution_count": 132,
   "id": "ed21bb8f",
   "metadata": {},
   "outputs": [
    {
     "ename": "Error",
     "evalue": "Attribute (units) does not pass the type constraint because: Validation failed for 'Int' with value undef at /usr/local/lib/perl5/site_perl/5.32.1/x86_64-linux/Mouse/Util.pm line 395.\n\tMouse::Util::throw_error(Mouse::Meta::Attribute=HASH(0x8aa1000), \"Attribute (units) does not pass the type constraint because: \"..., \"data\", undef, \"depth\", -1) called at reply input line 13\n\tAdditiveAttention::new(\"AdditiveAttention\", 32, 0.1) called at reply input line 15\n\tSeq2SeqAttentionDecoder::new(\"Seq2SeqAttentionDecoder\", \"vocab_size\", 201, \"embed_size\", 32, \"num_hiddens\", 32, \"num_layers\", 2, \"dropout\", 0.1) called at reply input line 7\n\tEval::Closure::Sandbox_1404::__ANON__() called at /usr/local/lib/perl5/site_perl/5.32.1/Reply/Plugin/Defaults.pm line 71\n\tReply::Plugin::Defaults::execute(Reply::Plugin::Defaults=HASH(0x4c2db40), CODE(0xaa71238), CODE(0xc0747d8)) called at /usr/local/lib/perl5/site_perl/5.32.1/Reply.pm line 217\n\tReply::_wrapped_plugin(Reply=HASH(0x4c141d0), ARRAY(0xb627358), \"execute\", CODE(0xc0747d8)) called at /usr/local/lib/perl5/site_perl/5.32.1/Reply.pm line 215\n\tReply::__ANON__(CODE(0xc0747d8)) called at /usr/local/lib/perl5/site_perl/5.32.1/Reply/Plugin/IPerl.pm line 28\n\tReply::Plugin::IPerl::__ANON__() called at /usr/local/lib/perl5/site_perl/5.32.1/Capture/Tiny.pm line 382\n\teval {...} called at /usr/local/lib/perl5/site_perl/5.32.1/Capture/Tiny.pm line 382\n\tCapture::Tiny::_capture_tee(1, 1, 0, 0, CODE(0xc88f1c8)) called at /usr/local/lib/perl5/site_perl/5.32.1/Reply/Plugin/IPerl.pm line 29\n\tReply::Plugin::IPerl::execute(Reply::Plugin::IPerl=HASH(0x4c436d0), CODE(0xb623410), CODE(0xc0747d8)) called at /usr/local/lib/perl5/site_perl/5.32.1/Reply.pm line 217\n\tReply::_wrapped_plugin(Reply=HASH(0x4c141d0), \"execute\", CODE(0xc0747d8)) called at /usr/local/lib/perl5/site_perl/5.32.1/Reply.pm line 174\n\tReply::_eval(Reply=HASH(0x4c141d0), \"\\x{a}#line 1 \\\"reply input\\\"\\x{a}my (\\$embed_size, \\$num_hiddens, \\$num_la\"...) called at /usr/local/lib/perl5/site_perl/5.32.1/Reply.pm line 66\n\tReply::try {...} () called at /usr/local/lib/perl5/site_perl/5.32.1/Try/Tiny.pm line 102\n\teval {...} called at /usr/local/lib/perl5/site_perl/5.32.1/Try/Tiny.pm line 93\n\tTry::Tiny::try(CODE(0xc989818), Try::Tiny::Catch=REF(0xc880d38)) called at /usr/local/lib/perl5/site_perl/5.32.1/Reply.pm line 71\n\tReply::step(Reply=HASH(0x4c141d0), \"my (\\$embed_size, \\$num_hiddens, \\$num_layers, \\$dropout )= (32, \"..., 0) called at /usr/local/lib/perl5/site_perl/5.32.1/Devel/IPerl/Kernel/Backend/Reply.pm line 48\n\tDevel::IPerl::Kernel::Backend::Reply::__ANON__() called at /usr/local/lib/perl5/site_perl/5.32.1/Capture/Tiny.pm line 382\n\teval {...} called at /usr/local/lib/perl5/site_perl/5.32.1/Capture/Tiny.pm line 382\n\tCapture::Tiny::_capture_tee(1, 1, 0, 0, CODE(0xbe6eeb8)) called at /usr/local/lib/perl5/site_perl/5.32.1/Devel/IPerl/Kernel/Backend/Reply.pm line 49\n\tDevel::IPerl::Kernel::Backend::Reply::run_line(Devel::IPerl::Kernel::Backend::Reply=HASH(0x2508b88), \"my (\\$embed_size, \\$num_hiddens, \\$num_layers, \\$dropout )= (32, \"...) called at /usr/local/lib/perl5/site_perl/5.32.1/Devel/IPerl/Kernel/Callback/REPL.pm line 42\n\tDevel::IPerl::Kernel::Callback::REPL::execute(Devel::IPerl::Kernel::Callback::REPL=HASH(0x25f2da0), Devel::IPerl::Kernel=HASH(0x1a1cef8), Devel::IPerl::Message::ZMQ=HASH(0xbffdcf0)) called at (eval 30) line 6\n\tDevel::IPerl::Kernel::Callback::REPL::execute(Devel::IPerl::Kernel::Callback::REPL=HASH(0x25f2da0), Devel::IPerl::Kernel=HASH(0x1a1cef8), Devel::IPerl::Message::ZMQ=HASH(0xbffdcf0)) called at /usr/local/lib/perl5/site_perl/5.32.1/Devel/IPerl/Kernel/Callback/REPL.pm line 156\n\tDevel::IPerl::Kernel::Callback::REPL::msg_execute_request(Devel::IPerl::Kernel::Callback::REPL=HASH(0x25f2da0), Devel::IPerl::Kernel=HASH(0x1a1cef8), Devel::IPerl::Message::ZMQ=HASH(0xbffdcf0), ZMQ::LibZMQ3::Socket=HASH(0x527b750)) called at /usr/local/lib/perl5/site_perl/5.32.1/Devel/IPerl/Kernel.pm line 245\n\tDevel::IPerl::Kernel::route_message(Devel::IPerl::Kernel=HASH(0x1a1cef8), ARRAY(0x527b870), ZMQ::LibZMQ3::Socket=HASH(0x527b750)) called at /usr/local/lib/perl5/site_perl/5.32.1/Devel/IPerl/Kernel.pm line 215\n\tDevel::IPerl::Kernel::__ANON__(Net::Async::ZMQ::Socket=HASH(0x527b900)) called at /usr/local/lib/perl5/site_perl/5.32.1/IO/Async/Loop/Poll.pm line 172\n\tIO::Async::Loop::Poll::post_poll(IO::Async::Loop::Poll=HASH(0x51c5898)) called at /usr/local/lib/perl5/site_perl/5.32.1/IO/Async/Loop/Poll.pm line 292\n\tIO::Async::Loop::Poll::loop_once(IO::Async::Loop::Poll=HASH(0x51c5898), undef) called at /usr/local/lib/perl5/site_perl/5.32.1/IO/Async/Loop.pm line 538\n\tIO::Async::Loop::run(IO::Async::Loop::Poll=HASH(0x51c5898)) called at /usr/local/lib/perl5/site_perl/5.32.1/IO/Async/Loop.pm line 575\n\tIO::Async::Loop::loop_forever(IO::Async::Loop::Poll=HASH(0x51c5898)) called at /usr/local/lib/perl5/site_perl/5.32.1/Devel/IPerl/Kernel.pm line 225\n\tDevel::IPerl::Kernel::run(Devel::IPerl::Kernel=HASH(0x1a1cef8)) called at /usr/local/lib/perl5/site_perl/5.32.1/Devel/IPerl.pm line 14\n\tDevel::IPerl::main() called at -e line 1\n",
     "output_type": "error",
     "traceback": [
      "Attribute (units) does not pass the type constraint because: Validation failed for 'Int' with value undef at /usr/local/lib/perl5/site_perl/5.32.1/x86_64-linux/Mouse/Util.pm line 395.\n\tMouse::Util::throw_error(Mouse::Meta::Attribute=HASH(0x8aa1000), \"Attribute (units) does not pass the type constraint because: \"..., \"data\", undef, \"depth\", -1) called at reply input line 13\n\tAdditiveAttention::new(\"AdditiveAttention\", 32, 0.1) called at reply input line 15\n\tSeq2SeqAttentionDecoder::new(\"Seq2SeqAttentionDecoder\", \"vocab_size\", 201, \"embed_size\", 32, \"num_hiddens\", 32, \"num_layers\", 2, \"dropout\", 0.1) called at reply input line 7\n\tEval::Closure::Sandbox_1404::__ANON__() called at /usr/local/lib/perl5/site_perl/5.32.1/Reply/Plugin/Defaults.pm line 71\n\tReply::Plugin::Defaults::execute(Reply::Plugin::Defaults=HASH(0x4c2db40), CODE(0xaa71238), CODE(0xc0747d8)) called at /usr/local/lib/perl5/site_perl/5.32.1/Reply.pm line 217\n\tReply::_wrapped_plugin(Reply=HASH(0x4c141d0), ARRAY(0xb627358), \"execute\", CODE(0xc0747d8)) called at /usr/local/lib/perl5/site_perl/5.32.1/Reply.pm line 215\n\tReply::__ANON__(CODE(0xc0747d8)) called at /usr/local/lib/perl5/site_perl/5.32.1/Reply/Plugin/IPerl.pm line 28\n\tReply::Plugin::IPerl::__ANON__() called at /usr/local/lib/perl5/site_perl/5.32.1/Capture/Tiny.pm line 382\n\teval {...} called at /usr/local/lib/perl5/site_perl/5.32.1/Capture/Tiny.pm line 382\n\tCapture::Tiny::_capture_tee(1, 1, 0, 0, CODE(0xc88f1c8)) called at /usr/local/lib/perl5/site_perl/5.32.1/Reply/Plugin/IPerl.pm line 29\n\tReply::Plugin::IPerl::execute(Reply::Plugin::IPerl=HASH(0x4c436d0), CODE(0xb623410), CODE(0xc0747d8)) called at /usr/local/lib/perl5/site_perl/5.32.1/Reply.pm line 217\n\tReply::_wrapped_plugin(Reply=HASH(0x4c141d0), \"execute\", CODE(0xc0747d8)) called at /usr/local/lib/perl5/site_perl/5.32.1/Reply.pm line 174\n\tReply::_eval(Reply=HASH(0x4c141d0), \"\\x{a}#line 1 \\\"reply input\\\"\\x{a}my (\\$embed_size, \\$num_hiddens, \\$num_la\"...) called at /usr/local/lib/perl5/site_perl/5.32.1/Reply.pm line 66\n\tReply::try {...} () called at /usr/local/lib/perl5/site_perl/5.32.1/Try/Tiny.pm line 102\n\teval {...} called at /usr/local/lib/perl5/site_perl/5.32.1/Try/Tiny.pm line 93\n\tTry::Tiny::try(CODE(0xc989818), Try::Tiny::Catch=REF(0xc880d38)) called at /usr/local/lib/perl5/site_perl/5.32.1/Reply.pm line 71\n\tReply::step(Reply=HASH(0x4c141d0), \"my (\\$embed_size, \\$num_hiddens, \\$num_layers, \\$dropout )= (32, \"..., 0) called at /usr/local/lib/perl5/site_perl/5.32.1/Devel/IPerl/Kernel/Backend/Reply.pm line 48\n\tDevel::IPerl::Kernel::Backend::Reply::__ANON__() called at /usr/local/lib/perl5/site_perl/5.32.1/Capture/Tiny.pm line 382\n\teval {...} called at /usr/local/lib/perl5/site_perl/5.32.1/Capture/Tiny.pm line 382\n\tCapture::Tiny::_capture_tee(1, 1, 0, 0, CODE(0xbe6eeb8)) called at /usr/local/lib/perl5/site_perl/5.32.1/Devel/IPerl/Kernel/Backend/Reply.pm line 49\n\tDevel::IPerl::Kernel::Backend::Reply::run_line(Devel::IPerl::Kernel::Backend::Reply=HASH(0x2508b88), \"my (\\$embed_size, \\$num_hiddens, \\$num_layers, \\$dropout )= (32, \"...) called at /usr/local/lib/perl5/site_perl/5.32.1/Devel/IPerl/Kernel/Callback/REPL.pm line 42\n\tDevel::IPerl::Kernel::Callback::REPL::execute(Devel::IPerl::Kernel::Callback::REPL=HASH(0x25f2da0), Devel::IPerl::Kernel=HASH(0x1a1cef8), Devel::IPerl::Message::ZMQ=HASH(0xbffdcf0)) called at (eval 30) line 6\n\tDevel::IPerl::Kernel::Callback::REPL::execute(Devel::IPerl::Kernel::Callback::REPL=HASH(0x25f2da0), Devel::IPerl::Kernel=HASH(0x1a1cef8), Devel::IPerl::Message::ZMQ=HASH(0xbffdcf0)) called at /usr/local/lib/perl5/site_perl/5.32.1/Devel/IPerl/Kernel/Callback/REPL.pm line 156\n\tDevel::IPerl::Kernel::Callback::REPL::msg_execute_request(Devel::IPerl::Kernel::Callback::REPL=HASH(0x25f2da0), Devel::IPerl::Kernel=HASH(0x1a1cef8), Devel::IPerl::Message::ZMQ=HASH(0xbffdcf0), ZMQ::LibZMQ3::Socket=HASH(0x527b750)) called at /usr/local/lib/perl5/site_perl/5.32.1/Devel/IPerl/Kernel.pm line 245\n\tDevel::IPerl::Kernel::route_message(Devel::IPerl::Kernel=HASH(0x1a1cef8), ARRAY(0x527b870), ZMQ::LibZMQ3::Socket=HASH(0x527b750)) called at /usr/local/lib/perl5/site_perl/5.32.1/Devel/IPerl/Kernel.pm line 215\n\tDevel::IPerl::Kernel::__ANON__(Net::Async::ZMQ::Socket=HASH(0x527b900)) called at /usr/local/lib/perl5/site_perl/5.32.1/IO/Async/Loop/Poll.pm line 172\n\tIO::Async::Loop::Poll::post_poll(IO::Async::Loop::Poll=HASH(0x51c5898)) called at /usr/local/lib/perl5/site_perl/5.32.1/IO/Async/Loop/Poll.pm line 292\n\tIO::Async::Loop::Poll::loop_once(IO::Async::Loop::Poll=HASH(0x51c5898), undef) called at /usr/local/lib/perl5/site_perl/5.32.1/IO/Async/Loop.pm line 538\n\tIO::Async::Loop::run(IO::Async::Loop::Poll=HASH(0x51c5898)) called at /usr/local/lib/perl5/site_perl/5.32.1/IO/Async/Loop.pm line 575\n\tIO::Async::Loop::loop_forever(IO::Async::Loop::Poll=HASH(0x51c5898)) called at /usr/local/lib/perl5/site_perl/5.32.1/Devel/IPerl/Kernel.pm line 225\n\tDevel::IPerl::Kernel::run(Devel::IPerl::Kernel=HASH(0x1a1cef8)) called at /usr/local/lib/perl5/site_perl/5.32.1/Devel/IPerl.pm line 14\n\tDevel::IPerl::main() called at -e line 1\n"
     ]
    }
   ],
   "source": [
    "my ($embed_size, $num_hiddens, $num_layers, $dropout )= (32, 32, 2, 0.1);\n",
    "my ($batch_size, $num_steps) = (64, 10);\n",
    "my ($lr, $num_epochs, $device)= (0.005, 250, try_gpu());\n",
    "my ($train_iter, $src_vocab, $tgt_vocab) = d2l->load_data_nmt(batch_size => $batch_size, num_steps => $num_steps);\n",
    "my $encoder = Seq2SeqEncoder->new(vocab_size => $src_vocab->len, embed_size => $embed_size, num_hiddens => $num_hiddens, num_layers => $num_layers, dropout => $dropout);\n",
    "$encoder->initialize();\n",
    "my $decoder = Seq2SeqAttentionDecoder->new(vocab_size => $tgt_vocab->len, embed_size => $embed_size, num_hiddens => $num_hiddens, num_layers => $num_layers, dropout => $dropout);\n",
    "$decoder->initialize();\n",
    "\n",
    "my $net = EncoderDecoder->new($encoder, $decoder);\n",
    "train_seq2seq->new($net, $train_iter, $lr, $num_epochs, $tgt_vocab, $device);"
   ]
  },
  {
   "cell_type": "code",
   "execution_count": null,
   "id": "d5301799",
   "metadata": {},
   "outputs": [],
   "source": []
  },
  {
   "cell_type": "code",
   "execution_count": null,
   "id": "e429feae",
   "metadata": {},
   "outputs": [],
   "source": []
  }
 ],
 "metadata": {
  "kernelspec": {
   "display_name": "IPerl 0.010",
   "language": "perl",
   "name": "iperl"
  },
  "language_info": {
   "file_extension": ".pl",
   "mimetype": "text/x-perl",
   "name": "perl",
   "version": "5.32.1"
  }
 },
 "nbformat": 4,
 "nbformat_minor": 5
}
